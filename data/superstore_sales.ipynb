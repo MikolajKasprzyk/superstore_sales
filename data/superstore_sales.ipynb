{
  "nbformat": 4,
  "nbformat_minor": 0,
  "metadata": {
    "colab": {
      "provenance": [],
      "mount_file_id": "1aA3O43_Bsn1ctpYcc_T2Wmus_Cq6LQ6j",
      "authorship_tag": "ABX9TyP6BArWB26nVuJMnynVDiz5",
      "include_colab_link": true
    },
    "kernelspec": {
      "name": "python3",
      "display_name": "Python 3"
    },
    "language_info": {
      "name": "python"
    }
  },
  "cells": [
    {
      "cell_type": "markdown",
      "metadata": {
        "id": "view-in-github",
        "colab_type": "text"
      },
      "source": [
        "<a href=\"https://colab.research.google.com/github/MikolajKasprzyk/superstore_sales/blob/main/data/superstore_sales.ipynb\" target=\"_parent\"><img src=\"https://colab.research.google.com/assets/colab-badge.svg\" alt=\"Open In Colab\"/></a>"
      ]
    },
    {
      "cell_type": "code",
      "execution_count": null,
      "metadata": {
        "id": "ONj8oc4Dc9zt"
      },
      "outputs": [],
      "source": [
        "import numpy as np\n",
        "import pandas as pd\n",
        "import matplotlib.pyplot as plt\n",
        "import seaborn as sns\n",
        "import calendar"
      ]
    },
    {
      "cell_type": "code",
      "source": [
        "# reading the data into a dataframe\n",
        "df = pd.read_csv('/content/drive/MyDrive/Colab Notebooks/superstore_sales/'\n",
        "                'superstore_sales.csv')"
      ],
      "metadata": {
        "id": "THQRZyq3dEzt"
      },
      "execution_count": 53,
      "outputs": []
    },
    {
      "cell_type": "code",
      "source": [
        "# first rows of dataframe\n",
        "df.head()"
      ],
      "metadata": {
        "id": "ziTTFQTMdPwc"
      },
      "execution_count": null,
      "outputs": []
    },
    {
      "cell_type": "code",
      "source": [
        "# dataframe shape\n",
        "df.shape"
      ],
      "metadata": {
        "id": "I4m2WGT1dIHb"
      },
      "execution_count": null,
      "outputs": []
    },
    {
      "cell_type": "code",
      "source": [
        "# get info about the data\n",
        "df.info()"
      ],
      "metadata": {
        "id": "lXackEXxdaI_"
      },
      "execution_count": null,
      "outputs": []
    },
    {
      "cell_type": "code",
      "source": [
        "# replace spaces with '_' in column names as it can become problematic\n",
        "# in further use of dataframe\n",
        "df.columns = df.columns.str.replace(' ', '_')\n",
        "df.columns"
      ],
      "metadata": {
        "id": "xbnKdkyuhH4L"
      },
      "execution_count": null,
      "outputs": []
    },
    {
      "cell_type": "code",
      "source": [
        "df.head(5)"
      ],
      "metadata": {
        "id": "O_IajUQ1n3c-"
      },
      "execution_count": null,
      "outputs": []
    },
    {
      "cell_type": "code",
      "source": [
        "# change 'Postal Code' to string\n",
        "df['Postal_Code'] = df['Postal_Code'].astype(str)"
      ],
      "metadata": {
        "id": "XiK3wDcshBPT"
      },
      "execution_count": null,
      "outputs": []
    },
    {
      "cell_type": "code",
      "source": [
        "df.info()"
      ],
      "metadata": {
        "id": "AVa4wFDbilKf"
      },
      "execution_count": null,
      "outputs": []
    },
    {
      "cell_type": "code",
      "source": [
        "# check for null values in df, and there are non, which is not so common\n",
        "df.isnull().sum()"
      ],
      "metadata": {
        "id": "s9z4sCVidZlG"
      },
      "execution_count": null,
      "outputs": []
    },
    {
      "cell_type": "code",
      "source": [
        "# check if there are duplicated rows, and there is non\n",
        "df[df.duplicated()]"
      ],
      "metadata": {
        "id": "PMb64jTEdVKM"
      },
      "execution_count": null,
      "outputs": []
    },
    {
      "cell_type": "code",
      "source": [
        "# check if there are some unresonably high values\n",
        "df.nlargest(10, 'Sales')[['Sales', 'Quantity', 'Product_Name','Profit', 'Discount']]\n",
        "# here first row seems odd - that would be something to clarify with client,\n",
        "# as for now it can stay as it is"
      ],
      "metadata": {
        "id": "hrf7AWfsjLqx"
      },
      "execution_count": null,
      "outputs": []
    },
    {
      "cell_type": "code",
      "source": [
        "# checking if there are some other odd values\n",
        "df.nlargest(10, 'Profit')[['Sales', 'Quantity', 'Product_Name','Profit']]"
      ],
      "metadata": {
        "id": "bfehl2OxmJko"
      },
      "execution_count": null,
      "outputs": []
    },
    {
      "cell_type": "code",
      "source": [
        "# checking if there are some other odd values\n",
        "df.nsmallest(10, 'Profit')[['Sales', 'Quantity', 'Product_Name','Profit', 'Discount']]"
      ],
      "metadata": {
        "id": "Cvw3ZvjVmhcg"
      },
      "execution_count": null,
      "outputs": []
    },
    {
      "cell_type": "code",
      "source": [
        "# sort dataframe on 'Order_Date'\n",
        "df.sort_values(by=['Order_Date'],inplace=True)"
      ],
      "metadata": {
        "id": "awQekPKhdgGq"
      },
      "execution_count": null,
      "outputs": []
    },
    {
      "cell_type": "code",
      "source": [
        "# check 'Country' of orders, all from USA\n",
        "df['Country'].value_counts()"
      ],
      "metadata": {
        "id": "w5lKuumXdpJC"
      },
      "execution_count": null,
      "outputs": []
    },
    {
      "cell_type": "code",
      "source": [
        "df['City'].value_counts()"
      ],
      "metadata": {
        "id": "G1fQCuabdrhD"
      },
      "execution_count": null,
      "outputs": []
    },
    {
      "cell_type": "code",
      "source": [
        "# check cities with biggest sales\n",
        "df.groupby('City')['Sales'].sum().sort_values(ascending=False)"
      ],
      "metadata": {
        "id": "bFIwERJasVZx"
      },
      "execution_count": null,
      "outputs": []
    },
    {
      "cell_type": "code",
      "source": [
        "# bar charts of sales and profit by segment\n",
        "fig, (ax1, ax2) = plt.subplots(1, 2, figsize=(16, 6))\n",
        "\n",
        "sns.barplot(x='Segment', y='Sales', data=df, estimator=sum, ci=None,\n",
        "            order=df.groupby('Segment')['Sales'].sum()\\\n",
        "            .sort_values(ascending=False).index, ax=ax1)\n",
        "ax1.yaxis.set_major_formatter(plt.FuncFormatter(lambda x, loc: \"{:.0f}K\".format(x * 1e-3)))\n",
        "ax1.set_title('Sales by Segment')\n",
        "\n",
        "sns.barplot(x='Segment', y='Profit', data=df, estimator=sum, ci=None,\n",
        "            order=df.groupby('Segment')['Profit'].sum()\n",
        "            .sort_values(ascending=False).index, ax=ax2)\n",
        "ax2.yaxis.set_major_formatter(plt.FuncFormatter(lambda x, loc: \"{:.0f}K\".format(x * 1e-3)))\n",
        "ax2.set_title('Profit by Segment')\n",
        "\n",
        "plt.subplots_adjust(wspace=0.4)  # Adjust spacing between subplots\n",
        "plt.show()"
      ],
      "metadata": {
        "id": "Ut5CqVn80SNb"
      },
      "execution_count": null,
      "outputs": []
    },
    {
      "cell_type": "code",
      "source": [
        "# number of orders by segment\n",
        "df['Segment'].value_counts().plot.bar().set_title('# Orders by Segment')"
      ],
      "metadata": {
        "id": "AATSZL1bdnWy"
      },
      "execution_count": null,
      "outputs": []
    },
    {
      "cell_type": "code",
      "source": [
        "# number of orders by ship mode\n",
        "df['Ship_Mode'].value_counts().plot.bar().set_title('# Orders by Ship')"
      ],
      "metadata": {
        "id": "5Sd5u0_Rdi8x"
      },
      "execution_count": null,
      "outputs": []
    },
    {
      "cell_type": "code",
      "source": [
        "df.groupby('State')['Sales'].sum().sort_values(ascending=False)"
      ],
      "metadata": {
        "id": "jHzcBJ-E4K0U"
      },
      "execution_count": null,
      "outputs": []
    },
    {
      "cell_type": "code",
      "source": [
        "# bar chart of sales by state\n",
        "df['State'] = df['State'].astype('category')\n",
        "\n",
        "plt.figure(figsize=(16, 6))\n",
        "sns.barplot(x='State', y='Sales', data=df, estimator=sum, ci=None,\n",
        "            order=df.groupby('State')['Sales'].sum()\\\n",
        "            .sort_values(ascending=False).index)\\\n",
        "            .yaxis.set_major_formatter(plt.FuncFormatter(\n",
        "                lambda x, loc: \"{:.0f}K\".format(x * 1e-3)))\n",
        "plt.xticks(rotation='vertical')\n",
        "plt.show()"
      ],
      "metadata": {
        "id": "i61TdbmudvJX"
      },
      "execution_count": null,
      "outputs": []
    },
    {
      "cell_type": "code",
      "source": [
        "# bar chart of profit by state\n",
        "df['State'] = df['State'].astype('category')\n",
        "\n",
        "plt.figure(figsize=(16, 6))\n",
        "sns.barplot(x='State', y='Profit', data=df, estimator=sum, ci=None,\n",
        "            order=df.groupby('State')['Profit'].sum()\\\n",
        "            .sort_values(ascending=False).index)\\\n",
        "            .yaxis.set_major_formatter(plt.FuncFormatter(\n",
        "                lambda x, loc: \"{:.0f}K\".format(x * 1e-3)))\n",
        "plt.xticks(rotation='vertical')\n",
        "plt.show()"
      ],
      "metadata": {
        "id": "yj2KZNka3yrs"
      },
      "execution_count": null,
      "outputs": []
    },
    {
      "cell_type": "code",
      "source": [
        "# show categories\n",
        "df['Category'].value_counts()"
      ],
      "metadata": {
        "id": "tz3bEVBkeFYj"
      },
      "execution_count": null,
      "outputs": []
    },
    {
      "cell_type": "code",
      "source": [
        "fig, (ax1, ax2) = plt.subplots(1, 2, figsize=(16, 6))\n",
        "\n",
        "# Sales by Category\n",
        "sales_by_category = df.groupby('Category')['Sales'].sum()\n",
        "ax1.pie(sales_by_category, labels=sales_by_category.index, autopct='%.0f%%')\n",
        "ax1.set_title('Sales by Category')\n",
        "\n",
        "# Profit by Category\n",
        "profit_by_category = df.groupby('Category')['Profit'].sum()\n",
        "ax2.pie(profit_by_category, labels=profit_by_category.index, autopct='%.0f%%')\n",
        "ax2.set_title('Profit by Category')\n",
        "\n",
        "plt.show()\n"
      ],
      "metadata": {
        "id": "26K9X9g7eKk0"
      },
      "execution_count": null,
      "outputs": []
    },
    {
      "cell_type": "code",
      "source": [
        "# top products by sales\n",
        "top_products = df.groupby(['Product_Name']).sum().sort_values(\n",
        "        'Sales',ascending=False).head(5)\n",
        "top_products.reset_index(inplace=True)\n",
        "top_products"
      ],
      "metadata": {
        "id": "gbL03BqTeOsj"
      },
      "execution_count": null,
      "outputs": []
    },
    {
      "cell_type": "code",
      "source": [
        "# top products by profit\n",
        "top_products = df.groupby(['Product_Name']).sum().sort_values(\n",
        "        'Profit',ascending=False).head(5)\n",
        "top_products.reset_index(inplace=True)\n",
        "top_products"
      ],
      "metadata": {
        "id": "kjDdS_qu-6Ps"
      },
      "execution_count": null,
      "outputs": []
    },
    {
      "cell_type": "code",
      "source": [
        "# bar chart of sales by sub-category\n",
        "plt.figure(figsize=(16, 6))\n",
        "sns.barplot(x='Sub-Category', y='Sales', data=df, estimator=sum, ci=None,\n",
        "            order=df.groupby('Sub-Category')['Sales'].sum()\\\n",
        "            .sort_values(ascending=False).index)\\\n",
        "            .yaxis.set_major_formatter(plt.FuncFormatter(\n",
        "                lambda x, loc: \"{:.0f}K\".format(x * 1e-3)))\n",
        "\n",
        "plt.xticks(rotation='vertical')\n",
        "plt.title('Sales by Sub-Category')\n",
        "plt.show()"
      ],
      "metadata": {
        "id": "5yiV_e3reR2j"
      },
      "execution_count": null,
      "outputs": []
    },
    {
      "cell_type": "code",
      "source": [
        "# bar chart of profit by sub-category\n",
        "plt.figure(figsize=(16, 6))\n",
        "sns.barplot(x='Sub-Category', y='Profit', data=df, estimator=sum, ci=None,\n",
        "            order=df.groupby('Sub-Category')['Profit'].sum()\\\n",
        "            .sort_values(ascending=False).index)\\\n",
        "            .yaxis.set_major_formatter(plt.FuncFormatter(\n",
        "                lambda x, loc: \"{:.0f}K\".format(x * 1e-3)))\\\n",
        "\n",
        "plt.xticks(rotation='vertical')\n",
        "plt.title('Profit by Sub-Category')\n",
        "plt.show()"
      ],
      "metadata": {
        "id": "DLFVnZ82BVFF"
      },
      "execution_count": null,
      "outputs": []
    },
    {
      "cell_type": "code",
      "source": [
        "# change data type in column 'Order_Date'\n",
        "df['Order_Date'] = pd.to_datetime(df['Order_Date'])\n",
        "\n",
        "# create new columns from the order date , split the date into day , month ans year\n",
        "df['day'] = df['Order_Date'].dt.day\n",
        "df['month'] = df['Order_Date'].dt.month\n",
        "df['year'] = df['Order_Date'].dt.year\n",
        "df.columns"
      ],
      "metadata": {
        "id": "bTYGOPgyeTvi"
      },
      "execution_count": null,
      "outputs": []
    },
    {
      "cell_type": "code",
      "source": [
        "# show the orders over years\n",
        "df['year'].value_counts().plot.bar().set_title('# Orders')"
      ],
      "metadata": {
        "id": "Ga7Y7g6beXxb"
      },
      "execution_count": null,
      "outputs": []
    },
    {
      "cell_type": "code",
      "source": [
        "# show the sales in each year\n",
        "year_sales = df.groupby(['year']).sum().sort_values('Sales',ascending=False)\n",
        "year_sales.reset_index(inplace=True)\n",
        "year_sales"
      ],
      "metadata": {
        "id": "obVhgnTleYUn"
      },
      "execution_count": null,
      "outputs": []
    },
    {
      "cell_type": "code",
      "source": [
        "# Sales by month by year\n",
        "sales_by_month = df.groupby(['year', 'month'])['Sales'].sum()\n",
        "\n",
        "sales_df = sales_by_month.reset_index()\n",
        "\n",
        "# Plot the sales by month\n",
        "plt.figure(figsize=(12, 6))\n",
        "plt.plot(sales_df['year'] + sales_df['month'] / 12, sales_df['Sales'])\n",
        "plt.xlabel('Year')\n",
        "plt.ylabel('Sales')\n",
        "plt.title('Sales by Month')\n",
        "plt.xticks(sales_df['year'].unique(), rotation='vertical')\n",
        "plt.grid(True)\n",
        "plt.show()"
      ],
      "metadata": {
        "id": "JZvsurIPFajR"
      },
      "execution_count": null,
      "outputs": []
    },
    {
      "cell_type": "code",
      "source": [
        "# function to get sales for each month in the 4 years\n",
        "all_sales = []\n",
        "\n",
        "years = [2014, 2015, 2016, 2017]\n",
        "for year in years :\n",
        "    df_year = df[df['year'] == year]\n",
        "    sales = df_year.groupby(['month'])['Sales'].sum()\n",
        "    all_sales.append([year,sales])\n",
        "\n",
        "all_sales"
      ],
      "metadata": {
        "id": "yokx7vPPehv7"
      },
      "execution_count": null,
      "outputs": []
    },
    {
      "cell_type": "code",
      "source": [
        "all_sales[0]"
      ],
      "metadata": {
        "id": "G3yK3-CCNvRJ"
      },
      "execution_count": null,
      "outputs": []
    },
    {
      "cell_type": "code",
      "source": [
        "# show sales in each year with months detail\n",
        "sales_year_month = df.groupby(['year', 'month'])[['Sales', 'Quantity', 'Profit']].sum()\n",
        "sales_year_month.reset_index(inplace=True)\n",
        "sales_year_month"
      ],
      "metadata": {
        "id": "Qvm3q3Yiejrk"
      },
      "execution_count": null,
      "outputs": []
    },
    {
      "cell_type": "code",
      "source": [
        "# plot sales by month for each year in df\n",
        "plt.figure(figsize=(15, 8))\n",
        "\n",
        "# sum sales for every month for single year and make it into new df\n",
        "sales_2014 = df[df['year'] == 2014][['month', 'Sales']].groupby(['month']).sum()\n",
        "# reset index because now month column is index\n",
        "sales_2014.reset_index(inplace=True)\n",
        "plt.plot(sales_2014['month'], sales_2014['Sales'], color='blue', label='2014')\n",
        "\n",
        "sales_2015 = df[df['year'] == 2015][['month', 'Sales']].groupby(['month']).sum()\n",
        "sales_2015.reset_index(inplace=True)\n",
        "plt.plot(sales_2015['month'], sales_2015['Sales'], color='green', label='2015')\n",
        "\n",
        "sales_2016 = df[df['year'] == 2016][['month', 'Sales']].groupby(['month']).sum()\n",
        "sales_2016.reset_index(inplace=True)\n",
        "plt.plot(sales_2015['month'], sales_2016['Sales'], color='orange', label='2016')\n",
        "\n",
        "sales_2017 = df[df['year'] == 2017][['month', 'Sales']].groupby(['month']).sum()\n",
        "sales_2017.reset_index(inplace=True)\n",
        "plt.plot(sales_2015['month'], sales_2017['Sales'], color='red', label='2017')\n",
        "\n",
        "plt.title('Sales by month 2014 - 2017')\n",
        "plt.legend()\n",
        "\n",
        "# Get month abbreviations\n",
        "month_abbr = [calendar.month_abbr[i] for i in range(1, 13)]\n",
        "# Set x-ticks to month abbreviations\n",
        "plt.xticks(range(1, 13), month_abbr)\n",
        "\n",
        "plt.show()\n"
      ],
      "metadata": {
        "id": "N0JD-E0ze9IL"
      },
      "execution_count": null,
      "outputs": []
    },
    {
      "cell_type": "code",
      "source": [
        "# as the data looks clean, export file to use for making vizualisation using\n",
        "# tools for better looks like Tableau\n",
        "df_tableau = df.copy()\n",
        "# change '_' to ' ' for presentation reasons\n",
        "df_tableau.columns = df_tableau.columns.str.replace('_', ' ')\n",
        "# export file to use for making vizualisation in Tableau\n",
        "df_tableau.to_csv('/content/drive/MyDrive/Colab Notebooks/superstore_sales/'\n",
        "        'superstore_sales_tableau.csv', encoding='utf-8', index=False)"
      ],
      "metadata": {
        "id": "wnzJCc43ot1I"
      },
      "execution_count": null,
      "outputs": []
    }
  ]
}