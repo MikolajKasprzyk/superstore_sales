{
  "metadata": {
    "kernelspec": {
      "language": "python",
      "display_name": "Python 3",
      "name": "python3"
    },
    "language_info": {
      "pygments_lexer": "ipython3",
      "nbconvert_exporter": "python",
      "version": "3.6.4",
      "file_extension": ".py",
      "codemirror_mode": {
        "name": "ipython",
        "version": 3
      },
      "name": "python",
      "mimetype": "text/x-python"
    },
    "colab": {
      "provenance": [],
      "include_colab_link": true
    }
  },
  "nbformat_minor": 0,
  "nbformat": 4,
  "cells": [
    {
      "cell_type": "markdown",
      "metadata": {
        "id": "view-in-github",
        "colab_type": "text"
      },
      "source": [
        "<a href=\"https://colab.research.google.com/github/MikolajKasprzyk/superstore_sales/blob/main/superstore_sales.ipynb\" target=\"_parent\"><img src=\"https://colab.research.google.com/assets/colab-badge.svg\" alt=\"Open In Colab\"/></a>"
      ]
    },
    {
      "cell_type": "code",
      "source": [
        "import numpy as np\n",
        "import pandas as pd\n",
        "import matplotlib.pyplot as plt\n",
        "import seaborn as sns"
      ],
      "metadata": {
        "_uuid": "84cdc907-9d24-42af-a5d5-bae2b0397140",
        "_cell_guid": "df2c887d-e954-4b21-b29d-cf79aae407e4",
        "execution": {
          "iopub.status.busy": "2022-07-19T18:40:35.178572Z",
          "iopub.execute_input": "2022-07-19T18:40:35.179249Z",
          "iopub.status.idle": "2022-07-19T18:40:35.185039Z",
          "shell.execute_reply.started": "2022-07-19T18:40:35.179211Z",
          "shell.execute_reply": "2022-07-19T18:40:35.183557Z"
        },
        "jupyter": {
          "outputs_hidden": false
        },
        "trusted": true,
        "id": "DZMkD__5_zFg"
      },
      "execution_count": null,
      "outputs": []
    },
    {
      "cell_type": "code",
      "source": [
        "from google.colab import drive\n",
        "drive.mount('/content/drive')"
      ],
      "metadata": {
        "colab": {
          "base_uri": "https://localhost:8080/"
        },
        "id": "SIwkEmENBpL0",
        "outputId": "775f4a60-4cca-4425-891f-adaf00593241"
      },
      "execution_count": null,
      "outputs": [
        {
          "output_type": "stream",
          "name": "stdout",
          "text": [
            "Drive already mounted at /content/drive; to attempt to forcibly remount, call drive.mount(\"/content/drive\", force_remount=True).\n"
          ]
        }
      ]
    },
    {
      "cell_type": "code",
      "source": [
        "import chardet\n",
        "\n",
        "# Read the file in binary mode\n",
        "with open('/content/drive/MyDrive/Colab Notebooks/superstore_sales/superstore_sales.csv', 'rb') as f:\n",
        "    # Detect the encoding of the file\n",
        "    result = chardet.detect(f.read())\n",
        "\n",
        "# Get the encoding from the detection result\n",
        "encoding = result['encoding']\n",
        "\n",
        "print(encoding)"
      ],
      "metadata": {
        "colab": {
          "base_uri": "https://localhost:8080/"
        },
        "id": "ltIf6TRsB9YJ",
        "outputId": "fb38b9fe-41a8-41b1-fb7f-aa3b2acca274"
      },
      "execution_count": null,
      "outputs": [
        {
          "output_type": "stream",
          "name": "stdout",
          "text": [
            "Windows-1252\n"
          ]
        }
      ]
    },
    {
      "cell_type": "code",
      "source": [
        "# reading the data in a datafram\n",
        "df = pd.read_csv('/content/drive/MyDrive/Colab Notebooks/superstore_sales/'\n",
        "                'superstore_sales.csv', encoding='Windows-1252')"
      ],
      "metadata": {
        "_uuid": "a18faa5e-c9d2-4fd5-b247-5e7cb34fcf48",
        "_cell_guid": "37cc4005-a0de-44b7-8ee0-865c2a080602",
        "execution": {
          "iopub.status.busy": "2022-07-19T18:40:39.492444Z",
          "iopub.execute_input": "2022-07-19T18:40:39.49289Z",
          "iopub.status.idle": "2022-07-19T18:40:39.553357Z",
          "shell.execute_reply.started": "2022-07-19T18:40:39.492854Z",
          "shell.execute_reply": "2022-07-19T18:40:39.552077Z"
        },
        "jupyter": {
          "outputs_hidden": false
        },
        "trusted": true,
        "id": "fTlmpDyP_zFi"
      },
      "execution_count": null,
      "outputs": []
    },
    {
      "cell_type": "code",
      "source": [
        "# see the data shape\n",
        "df.shape"
      ],
      "metadata": {
        "_uuid": "6961285a-57bf-401f-ae05-f61751e0bf07",
        "_cell_guid": "a90c06b7-f6c1-4627-9a3c-c2970765074f",
        "execution": {
          "iopub.status.busy": "2022-07-19T18:41:05.964409Z",
          "iopub.execute_input": "2022-07-19T18:41:05.964894Z",
          "iopub.status.idle": "2022-07-19T18:41:05.974904Z",
          "shell.execute_reply.started": "2022-07-19T18:41:05.964858Z",
          "shell.execute_reply": "2022-07-19T18:41:05.973634Z"
        },
        "jupyter": {
          "outputs_hidden": false
        },
        "trusted": true,
        "colab": {
          "base_uri": "https://localhost:8080/"
        },
        "id": "-0_DR00G_zFk",
        "outputId": "ba4c3618-c714-49fc-d6bd-750cd0a89c96"
      },
      "execution_count": null,
      "outputs": [
        {
          "output_type": "execute_result",
          "data": {
            "text/plain": [
              "(9994, 21)"
            ]
          },
          "metadata": {},
          "execution_count": 12
        }
      ]
    },
    {
      "cell_type": "code",
      "source": [
        "# see first 5 rows\n",
        "df.head()"
      ],
      "metadata": {
        "_uuid": "af792056-4b69-4a6f-a329-dbf3efb9eb43",
        "_cell_guid": "8450d87c-82ef-4939-8322-a586fcafd9d1",
        "execution": {
          "iopub.status.busy": "2022-07-19T18:41:25.442893Z",
          "iopub.execute_input": "2022-07-19T18:41:25.443321Z",
          "iopub.status.idle": "2022-07-19T18:41:25.475271Z",
          "shell.execute_reply.started": "2022-07-19T18:41:25.443286Z",
          "shell.execute_reply": "2022-07-19T18:41:25.474036Z"
        },
        "jupyter": {
          "outputs_hidden": false
        },
        "trusted": true,
        "colab": {
          "base_uri": "https://localhost:8080/",
          "height": 629
        },
        "id": "AUarL8n6_zFl",
        "outputId": "e57bc221-1cad-4b73-b8ec-d589653c680d"
      },
      "execution_count": null,
      "outputs": [
        {
          "output_type": "execute_result",
          "data": {
            "text/plain": [
              "   Row ID        Order ID  Order Date   Ship Date       Ship Mode Customer ID  \\\n",
              "0       1  CA-2016-152156   11/8/2016  11/11/2016    Second Class    CG-12520   \n",
              "1       2  CA-2016-152156   11/8/2016  11/11/2016    Second Class    CG-12520   \n",
              "2       3  CA-2016-138688   6/12/2016   6/16/2016    Second Class    DV-13045   \n",
              "3       4  US-2015-108966  10/11/2015  10/18/2015  Standard Class    SO-20335   \n",
              "4       5  US-2015-108966  10/11/2015  10/18/2015  Standard Class    SO-20335   \n",
              "\n",
              "     Customer Name    Segment        Country             City  ...  \\\n",
              "0      Claire Gute   Consumer  United States        Henderson  ...   \n",
              "1      Claire Gute   Consumer  United States        Henderson  ...   \n",
              "2  Darrin Van Huff  Corporate  United States      Los Angeles  ...   \n",
              "3   Sean O'Donnell   Consumer  United States  Fort Lauderdale  ...   \n",
              "4   Sean O'Donnell   Consumer  United States  Fort Lauderdale  ...   \n",
              "\n",
              "  Postal Code  Region       Product ID         Category Sub-Category  \\\n",
              "0       42420   South  FUR-BO-10001798        Furniture    Bookcases   \n",
              "1       42420   South  FUR-CH-10000454        Furniture       Chairs   \n",
              "2       90036    West  OFF-LA-10000240  Office Supplies       Labels   \n",
              "3       33311   South  FUR-TA-10000577        Furniture       Tables   \n",
              "4       33311   South  OFF-ST-10000760  Office Supplies      Storage   \n",
              "\n",
              "                                        Product Name     Sales  Quantity  \\\n",
              "0                  Bush Somerset Collection Bookcase  261.9600         2   \n",
              "1  Hon Deluxe Fabric Upholstered Stacking Chairs,...  731.9400         3   \n",
              "2  Self-Adhesive Address Labels for Typewriters b...   14.6200         2   \n",
              "3      Bretford CR4500 Series Slim Rectangular Table  957.5775         5   \n",
              "4                     Eldon Fold 'N Roll Cart System   22.3680         2   \n",
              "\n",
              "   Discount    Profit  \n",
              "0      0.00   41.9136  \n",
              "1      0.00  219.5820  \n",
              "2      0.00    6.8714  \n",
              "3      0.45 -383.0310  \n",
              "4      0.20    2.5164  \n",
              "\n",
              "[5 rows x 21 columns]"
            ],
            "text/html": [
              "\n",
              "  <div id=\"df-18ecc889-8542-4a74-9746-625bfceef407\">\n",
              "    <div class=\"colab-df-container\">\n",
              "      <div>\n",
              "<style scoped>\n",
              "    .dataframe tbody tr th:only-of-type {\n",
              "        vertical-align: middle;\n",
              "    }\n",
              "\n",
              "    .dataframe tbody tr th {\n",
              "        vertical-align: top;\n",
              "    }\n",
              "\n",
              "    .dataframe thead th {\n",
              "        text-align: right;\n",
              "    }\n",
              "</style>\n",
              "<table border=\"1\" class=\"dataframe\">\n",
              "  <thead>\n",
              "    <tr style=\"text-align: right;\">\n",
              "      <th></th>\n",
              "      <th>Row ID</th>\n",
              "      <th>Order ID</th>\n",
              "      <th>Order Date</th>\n",
              "      <th>Ship Date</th>\n",
              "      <th>Ship Mode</th>\n",
              "      <th>Customer ID</th>\n",
              "      <th>Customer Name</th>\n",
              "      <th>Segment</th>\n",
              "      <th>Country</th>\n",
              "      <th>City</th>\n",
              "      <th>...</th>\n",
              "      <th>Postal Code</th>\n",
              "      <th>Region</th>\n",
              "      <th>Product ID</th>\n",
              "      <th>Category</th>\n",
              "      <th>Sub-Category</th>\n",
              "      <th>Product Name</th>\n",
              "      <th>Sales</th>\n",
              "      <th>Quantity</th>\n",
              "      <th>Discount</th>\n",
              "      <th>Profit</th>\n",
              "    </tr>\n",
              "  </thead>\n",
              "  <tbody>\n",
              "    <tr>\n",
              "      <th>0</th>\n",
              "      <td>1</td>\n",
              "      <td>CA-2016-152156</td>\n",
              "      <td>11/8/2016</td>\n",
              "      <td>11/11/2016</td>\n",
              "      <td>Second Class</td>\n",
              "      <td>CG-12520</td>\n",
              "      <td>Claire Gute</td>\n",
              "      <td>Consumer</td>\n",
              "      <td>United States</td>\n",
              "      <td>Henderson</td>\n",
              "      <td>...</td>\n",
              "      <td>42420</td>\n",
              "      <td>South</td>\n",
              "      <td>FUR-BO-10001798</td>\n",
              "      <td>Furniture</td>\n",
              "      <td>Bookcases</td>\n",
              "      <td>Bush Somerset Collection Bookcase</td>\n",
              "      <td>261.9600</td>\n",
              "      <td>2</td>\n",
              "      <td>0.00</td>\n",
              "      <td>41.9136</td>\n",
              "    </tr>\n",
              "    <tr>\n",
              "      <th>1</th>\n",
              "      <td>2</td>\n",
              "      <td>CA-2016-152156</td>\n",
              "      <td>11/8/2016</td>\n",
              "      <td>11/11/2016</td>\n",
              "      <td>Second Class</td>\n",
              "      <td>CG-12520</td>\n",
              "      <td>Claire Gute</td>\n",
              "      <td>Consumer</td>\n",
              "      <td>United States</td>\n",
              "      <td>Henderson</td>\n",
              "      <td>...</td>\n",
              "      <td>42420</td>\n",
              "      <td>South</td>\n",
              "      <td>FUR-CH-10000454</td>\n",
              "      <td>Furniture</td>\n",
              "      <td>Chairs</td>\n",
              "      <td>Hon Deluxe Fabric Upholstered Stacking Chairs,...</td>\n",
              "      <td>731.9400</td>\n",
              "      <td>3</td>\n",
              "      <td>0.00</td>\n",
              "      <td>219.5820</td>\n",
              "    </tr>\n",
              "    <tr>\n",
              "      <th>2</th>\n",
              "      <td>3</td>\n",
              "      <td>CA-2016-138688</td>\n",
              "      <td>6/12/2016</td>\n",
              "      <td>6/16/2016</td>\n",
              "      <td>Second Class</td>\n",
              "      <td>DV-13045</td>\n",
              "      <td>Darrin Van Huff</td>\n",
              "      <td>Corporate</td>\n",
              "      <td>United States</td>\n",
              "      <td>Los Angeles</td>\n",
              "      <td>...</td>\n",
              "      <td>90036</td>\n",
              "      <td>West</td>\n",
              "      <td>OFF-LA-10000240</td>\n",
              "      <td>Office Supplies</td>\n",
              "      <td>Labels</td>\n",
              "      <td>Self-Adhesive Address Labels for Typewriters b...</td>\n",
              "      <td>14.6200</td>\n",
              "      <td>2</td>\n",
              "      <td>0.00</td>\n",
              "      <td>6.8714</td>\n",
              "    </tr>\n",
              "    <tr>\n",
              "      <th>3</th>\n",
              "      <td>4</td>\n",
              "      <td>US-2015-108966</td>\n",
              "      <td>10/11/2015</td>\n",
              "      <td>10/18/2015</td>\n",
              "      <td>Standard Class</td>\n",
              "      <td>SO-20335</td>\n",
              "      <td>Sean O'Donnell</td>\n",
              "      <td>Consumer</td>\n",
              "      <td>United States</td>\n",
              "      <td>Fort Lauderdale</td>\n",
              "      <td>...</td>\n",
              "      <td>33311</td>\n",
              "      <td>South</td>\n",
              "      <td>FUR-TA-10000577</td>\n",
              "      <td>Furniture</td>\n",
              "      <td>Tables</td>\n",
              "      <td>Bretford CR4500 Series Slim Rectangular Table</td>\n",
              "      <td>957.5775</td>\n",
              "      <td>5</td>\n",
              "      <td>0.45</td>\n",
              "      <td>-383.0310</td>\n",
              "    </tr>\n",
              "    <tr>\n",
              "      <th>4</th>\n",
              "      <td>5</td>\n",
              "      <td>US-2015-108966</td>\n",
              "      <td>10/11/2015</td>\n",
              "      <td>10/18/2015</td>\n",
              "      <td>Standard Class</td>\n",
              "      <td>SO-20335</td>\n",
              "      <td>Sean O'Donnell</td>\n",
              "      <td>Consumer</td>\n",
              "      <td>United States</td>\n",
              "      <td>Fort Lauderdale</td>\n",
              "      <td>...</td>\n",
              "      <td>33311</td>\n",
              "      <td>South</td>\n",
              "      <td>OFF-ST-10000760</td>\n",
              "      <td>Office Supplies</td>\n",
              "      <td>Storage</td>\n",
              "      <td>Eldon Fold 'N Roll Cart System</td>\n",
              "      <td>22.3680</td>\n",
              "      <td>2</td>\n",
              "      <td>0.20</td>\n",
              "      <td>2.5164</td>\n",
              "    </tr>\n",
              "  </tbody>\n",
              "</table>\n",
              "<p>5 rows × 21 columns</p>\n",
              "</div>\n",
              "      <button class=\"colab-df-convert\" onclick=\"convertToInteractive('df-18ecc889-8542-4a74-9746-625bfceef407')\"\n",
              "              title=\"Convert this dataframe to an interactive table.\"\n",
              "              style=\"display:none;\">\n",
              "        \n",
              "  <svg xmlns=\"http://www.w3.org/2000/svg\" height=\"24px\"viewBox=\"0 0 24 24\"\n",
              "       width=\"24px\">\n",
              "    <path d=\"M0 0h24v24H0V0z\" fill=\"none\"/>\n",
              "    <path d=\"M18.56 5.44l.94 2.06.94-2.06 2.06-.94-2.06-.94-.94-2.06-.94 2.06-2.06.94zm-11 1L8.5 8.5l.94-2.06 2.06-.94-2.06-.94L8.5 2.5l-.94 2.06-2.06.94zm10 10l.94 2.06.94-2.06 2.06-.94-2.06-.94-.94-2.06-.94 2.06-2.06.94z\"/><path d=\"M17.41 7.96l-1.37-1.37c-.4-.4-.92-.59-1.43-.59-.52 0-1.04.2-1.43.59L10.3 9.45l-7.72 7.72c-.78.78-.78 2.05 0 2.83L4 21.41c.39.39.9.59 1.41.59.51 0 1.02-.2 1.41-.59l7.78-7.78 2.81-2.81c.8-.78.8-2.07 0-2.86zM5.41 20L4 18.59l7.72-7.72 1.47 1.35L5.41 20z\"/>\n",
              "  </svg>\n",
              "      </button>\n",
              "      \n",
              "  <style>\n",
              "    .colab-df-container {\n",
              "      display:flex;\n",
              "      flex-wrap:wrap;\n",
              "      gap: 12px;\n",
              "    }\n",
              "\n",
              "    .colab-df-convert {\n",
              "      background-color: #E8F0FE;\n",
              "      border: none;\n",
              "      border-radius: 50%;\n",
              "      cursor: pointer;\n",
              "      display: none;\n",
              "      fill: #1967D2;\n",
              "      height: 32px;\n",
              "      padding: 0 0 0 0;\n",
              "      width: 32px;\n",
              "    }\n",
              "\n",
              "    .colab-df-convert:hover {\n",
              "      background-color: #E2EBFA;\n",
              "      box-shadow: 0px 1px 2px rgba(60, 64, 67, 0.3), 0px 1px 3px 1px rgba(60, 64, 67, 0.15);\n",
              "      fill: #174EA6;\n",
              "    }\n",
              "\n",
              "    [theme=dark] .colab-df-convert {\n",
              "      background-color: #3B4455;\n",
              "      fill: #D2E3FC;\n",
              "    }\n",
              "\n",
              "    [theme=dark] .colab-df-convert:hover {\n",
              "      background-color: #434B5C;\n",
              "      box-shadow: 0px 1px 3px 1px rgba(0, 0, 0, 0.15);\n",
              "      filter: drop-shadow(0px 1px 2px rgba(0, 0, 0, 0.3));\n",
              "      fill: #FFFFFF;\n",
              "    }\n",
              "  </style>\n",
              "\n",
              "      <script>\n",
              "        const buttonEl =\n",
              "          document.querySelector('#df-18ecc889-8542-4a74-9746-625bfceef407 button.colab-df-convert');\n",
              "        buttonEl.style.display =\n",
              "          google.colab.kernel.accessAllowed ? 'block' : 'none';\n",
              "\n",
              "        async function convertToInteractive(key) {\n",
              "          const element = document.querySelector('#df-18ecc889-8542-4a74-9746-625bfceef407');\n",
              "          const dataTable =\n",
              "            await google.colab.kernel.invokeFunction('convertToInteractive',\n",
              "                                                     [key], {});\n",
              "          if (!dataTable) return;\n",
              "\n",
              "          const docLinkHtml = 'Like what you see? Visit the ' +\n",
              "            '<a target=\"_blank\" href=https://colab.research.google.com/notebooks/data_table.ipynb>data table notebook</a>'\n",
              "            + ' to learn more about interactive tables.';\n",
              "          element.innerHTML = '';\n",
              "          dataTable['output_type'] = 'display_data';\n",
              "          await google.colab.output.renderOutput(dataTable, element);\n",
              "          const docLink = document.createElement('div');\n",
              "          docLink.innerHTML = docLinkHtml;\n",
              "          element.appendChild(docLink);\n",
              "        }\n",
              "      </script>\n",
              "    </div>\n",
              "  </div>\n",
              "  "
            ]
          },
          "metadata": {},
          "execution_count": 13
        }
      ]
    },
    {
      "cell_type": "code",
      "source": [
        "# Check duplicates\n",
        "df[df.duplicated()]"
      ],
      "metadata": {
        "_uuid": "b8622784-9fd2-45f1-a7ea-21dbc16f8c62",
        "_cell_guid": "9d8f2ed6-9e45-4f34-be32-bbd635479249",
        "execution": {
          "iopub.status.busy": "2022-07-19T18:43:01.26235Z",
          "iopub.execute_input": "2022-07-19T18:43:01.265077Z",
          "iopub.status.idle": "2022-07-19T18:43:01.310885Z",
          "shell.execute_reply.started": "2022-07-19T18:43:01.265019Z",
          "shell.execute_reply": "2022-07-19T18:43:01.309768Z"
        },
        "jupyter": {
          "outputs_hidden": false
        },
        "trusted": true,
        "colab": {
          "base_uri": "https://localhost:8080/",
          "height": 160
        },
        "id": "efFu4sKz_zFn",
        "outputId": "085bbadc-2959-4a97-90c2-ed77d1757fa2"
      },
      "execution_count": null,
      "outputs": [
        {
          "output_type": "execute_result",
          "data": {
            "text/plain": [
              "Empty DataFrame\n",
              "Columns: [Row ID, Order ID, Order Date, Ship Date, Ship Mode, Customer ID, Customer Name, Segment, Country, City, State, Postal Code, Region, Product ID, Category, Sub-Category, Product Name, Sales, Quantity, Discount, Profit]\n",
              "Index: []\n",
              "\n",
              "[0 rows x 21 columns]"
            ],
            "text/html": [
              "\n",
              "  <div id=\"df-f4421d68-8ca1-4731-9ab7-0e0a3dba5e84\">\n",
              "    <div class=\"colab-df-container\">\n",
              "      <div>\n",
              "<style scoped>\n",
              "    .dataframe tbody tr th:only-of-type {\n",
              "        vertical-align: middle;\n",
              "    }\n",
              "\n",
              "    .dataframe tbody tr th {\n",
              "        vertical-align: top;\n",
              "    }\n",
              "\n",
              "    .dataframe thead th {\n",
              "        text-align: right;\n",
              "    }\n",
              "</style>\n",
              "<table border=\"1\" class=\"dataframe\">\n",
              "  <thead>\n",
              "    <tr style=\"text-align: right;\">\n",
              "      <th></th>\n",
              "      <th>Row ID</th>\n",
              "      <th>Order ID</th>\n",
              "      <th>Order Date</th>\n",
              "      <th>Ship Date</th>\n",
              "      <th>Ship Mode</th>\n",
              "      <th>Customer ID</th>\n",
              "      <th>Customer Name</th>\n",
              "      <th>Segment</th>\n",
              "      <th>Country</th>\n",
              "      <th>City</th>\n",
              "      <th>...</th>\n",
              "      <th>Postal Code</th>\n",
              "      <th>Region</th>\n",
              "      <th>Product ID</th>\n",
              "      <th>Category</th>\n",
              "      <th>Sub-Category</th>\n",
              "      <th>Product Name</th>\n",
              "      <th>Sales</th>\n",
              "      <th>Quantity</th>\n",
              "      <th>Discount</th>\n",
              "      <th>Profit</th>\n",
              "    </tr>\n",
              "  </thead>\n",
              "  <tbody>\n",
              "  </tbody>\n",
              "</table>\n",
              "<p>0 rows × 21 columns</p>\n",
              "</div>\n",
              "      <button class=\"colab-df-convert\" onclick=\"convertToInteractive('df-f4421d68-8ca1-4731-9ab7-0e0a3dba5e84')\"\n",
              "              title=\"Convert this dataframe to an interactive table.\"\n",
              "              style=\"display:none;\">\n",
              "        \n",
              "  <svg xmlns=\"http://www.w3.org/2000/svg\" height=\"24px\"viewBox=\"0 0 24 24\"\n",
              "       width=\"24px\">\n",
              "    <path d=\"M0 0h24v24H0V0z\" fill=\"none\"/>\n",
              "    <path d=\"M18.56 5.44l.94 2.06.94-2.06 2.06-.94-2.06-.94-.94-2.06-.94 2.06-2.06.94zm-11 1L8.5 8.5l.94-2.06 2.06-.94-2.06-.94L8.5 2.5l-.94 2.06-2.06.94zm10 10l.94 2.06.94-2.06 2.06-.94-2.06-.94-.94-2.06-.94 2.06-2.06.94z\"/><path d=\"M17.41 7.96l-1.37-1.37c-.4-.4-.92-.59-1.43-.59-.52 0-1.04.2-1.43.59L10.3 9.45l-7.72 7.72c-.78.78-.78 2.05 0 2.83L4 21.41c.39.39.9.59 1.41.59.51 0 1.02-.2 1.41-.59l7.78-7.78 2.81-2.81c.8-.78.8-2.07 0-2.86zM5.41 20L4 18.59l7.72-7.72 1.47 1.35L5.41 20z\"/>\n",
              "  </svg>\n",
              "      </button>\n",
              "      \n",
              "  <style>\n",
              "    .colab-df-container {\n",
              "      display:flex;\n",
              "      flex-wrap:wrap;\n",
              "      gap: 12px;\n",
              "    }\n",
              "\n",
              "    .colab-df-convert {\n",
              "      background-color: #E8F0FE;\n",
              "      border: none;\n",
              "      border-radius: 50%;\n",
              "      cursor: pointer;\n",
              "      display: none;\n",
              "      fill: #1967D2;\n",
              "      height: 32px;\n",
              "      padding: 0 0 0 0;\n",
              "      width: 32px;\n",
              "    }\n",
              "\n",
              "    .colab-df-convert:hover {\n",
              "      background-color: #E2EBFA;\n",
              "      box-shadow: 0px 1px 2px rgba(60, 64, 67, 0.3), 0px 1px 3px 1px rgba(60, 64, 67, 0.15);\n",
              "      fill: #174EA6;\n",
              "    }\n",
              "\n",
              "    [theme=dark] .colab-df-convert {\n",
              "      background-color: #3B4455;\n",
              "      fill: #D2E3FC;\n",
              "    }\n",
              "\n",
              "    [theme=dark] .colab-df-convert:hover {\n",
              "      background-color: #434B5C;\n",
              "      box-shadow: 0px 1px 3px 1px rgba(0, 0, 0, 0.15);\n",
              "      filter: drop-shadow(0px 1px 2px rgba(0, 0, 0, 0.3));\n",
              "      fill: #FFFFFF;\n",
              "    }\n",
              "  </style>\n",
              "\n",
              "      <script>\n",
              "        const buttonEl =\n",
              "          document.querySelector('#df-f4421d68-8ca1-4731-9ab7-0e0a3dba5e84 button.colab-df-convert');\n",
              "        buttonEl.style.display =\n",
              "          google.colab.kernel.accessAllowed ? 'block' : 'none';\n",
              "\n",
              "        async function convertToInteractive(key) {\n",
              "          const element = document.querySelector('#df-f4421d68-8ca1-4731-9ab7-0e0a3dba5e84');\n",
              "          const dataTable =\n",
              "            await google.colab.kernel.invokeFunction('convertToInteractive',\n",
              "                                                     [key], {});\n",
              "          if (!dataTable) return;\n",
              "\n",
              "          const docLinkHtml = 'Like what you see? Visit the ' +\n",
              "            '<a target=\"_blank\" href=https://colab.research.google.com/notebooks/data_table.ipynb>data table notebook</a>'\n",
              "            + ' to learn more about interactive tables.';\n",
              "          element.innerHTML = '';\n",
              "          dataTable['output_type'] = 'display_data';\n",
              "          await google.colab.output.renderOutput(dataTable, element);\n",
              "          const docLink = document.createElement('div');\n",
              "          docLink.innerHTML = docLinkHtml;\n",
              "          element.appendChild(docLink);\n",
              "        }\n",
              "      </script>\n",
              "    </div>\n",
              "  </div>\n",
              "  "
            ]
          },
          "metadata": {},
          "execution_count": 14
        }
      ]
    },
    {
      "cell_type": "code",
      "source": [
        "# show the sum of the null values in each column\n",
        "df.isnull().sum()"
      ],
      "metadata": {
        "_uuid": "0587ed73-bad7-41e1-bbbe-03448d2b6f99",
        "_cell_guid": "2cdc4285-5578-400b-be98-74395f4adf22",
        "execution": {
          "iopub.status.busy": "2022-07-19T18:44:23.626437Z",
          "iopub.execute_input": "2022-07-19T18:44:23.626815Z",
          "iopub.status.idle": "2022-07-19T18:44:23.655653Z",
          "shell.execute_reply.started": "2022-07-19T18:44:23.626786Z",
          "shell.execute_reply": "2022-07-19T18:44:23.654352Z"
        },
        "jupyter": {
          "outputs_hidden": false
        },
        "trusted": true,
        "colab": {
          "base_uri": "https://localhost:8080/"
        },
        "id": "JDsV4mR__zFq",
        "outputId": "f33b6817-db9a-4d36-a218-fe01d8dcce83"
      },
      "execution_count": null,
      "outputs": [
        {
          "output_type": "execute_result",
          "data": {
            "text/plain": [
              "Row ID           0\n",
              "Order ID         0\n",
              "Order Date       0\n",
              "Ship Date        0\n",
              "Ship Mode        0\n",
              "Customer ID      0\n",
              "Customer Name    0\n",
              "Segment          0\n",
              "Country          0\n",
              "City             0\n",
              "State            0\n",
              "Postal Code      0\n",
              "Region           0\n",
              "Product ID       0\n",
              "Category         0\n",
              "Sub-Category     0\n",
              "Product Name     0\n",
              "Sales            0\n",
              "Quantity         0\n",
              "Discount         0\n",
              "Profit           0\n",
              "dtype: int64"
            ]
          },
          "metadata": {},
          "execution_count": 16
        }
      ]
    },
    {
      "cell_type": "code",
      "source": [
        "# get info about the data\n",
        "df.info()"
      ],
      "metadata": {
        "_uuid": "5e7bcf96-87d1-448a-a8fc-07d96c485abd",
        "_cell_guid": "a6a69918-c7c3-4b7f-b4dd-6fbf65fe2c6c",
        "execution": {
          "iopub.status.busy": "2022-07-19T18:49:30.499717Z",
          "iopub.execute_input": "2022-07-19T18:49:30.500103Z",
          "iopub.status.idle": "2022-07-19T18:49:30.53745Z",
          "shell.execute_reply.started": "2022-07-19T18:49:30.500071Z",
          "shell.execute_reply": "2022-07-19T18:49:30.536648Z"
        },
        "jupyter": {
          "outputs_hidden": false
        },
        "trusted": true,
        "colab": {
          "base_uri": "https://localhost:8080/"
        },
        "id": "25N7Qey3_zFt",
        "outputId": "7939fe22-870c-4e9e-9c60-95e829f8a9ee"
      },
      "execution_count": null,
      "outputs": [
        {
          "output_type": "stream",
          "name": "stdout",
          "text": [
            "<class 'pandas.core.frame.DataFrame'>\n",
            "RangeIndex: 9994 entries, 0 to 9993\n",
            "Data columns (total 21 columns):\n",
            " #   Column         Non-Null Count  Dtype  \n",
            "---  ------         --------------  -----  \n",
            " 0   Row ID         9994 non-null   int64  \n",
            " 1   Order ID       9994 non-null   object \n",
            " 2   Order Date     9994 non-null   object \n",
            " 3   Ship Date      9994 non-null   object \n",
            " 4   Ship Mode      9994 non-null   object \n",
            " 5   Customer ID    9994 non-null   object \n",
            " 6   Customer Name  9994 non-null   object \n",
            " 7   Segment        9994 non-null   object \n",
            " 8   Country        9994 non-null   object \n",
            " 9   City           9994 non-null   object \n",
            " 10  State          9994 non-null   object \n",
            " 11  Postal Code    9994 non-null   int64  \n",
            " 12  Region         9994 non-null   object \n",
            " 13  Product ID     9994 non-null   object \n",
            " 14  Category       9994 non-null   object \n",
            " 15  Sub-Category   9994 non-null   object \n",
            " 16  Product Name   9994 non-null   object \n",
            " 17  Sales          9994 non-null   float64\n",
            " 18  Quantity       9994 non-null   int64  \n",
            " 19  Discount       9994 non-null   float64\n",
            " 20  Profit         9994 non-null   float64\n",
            "dtypes: float64(3), int64(3), object(15)\n",
            "memory usage: 1.6+ MB\n"
          ]
        }
      ]
    },
    {
      "cell_type": "code",
      "source": [
        "df.to_csv('/content/drive/MyDrive/Colab Notebooks/superstore_sales/'\n",
        "        'superstore_sales.csv', encoding='utf-8', index=False)"
      ],
      "metadata": {
        "_uuid": "6348d9e6-f54a-473c-890a-bd17dff4f6b5",
        "_cell_guid": "9187851a-fda4-42ee-bdbb-6877b7ec7c1e",
        "execution": {
          "iopub.status.busy": "2022-07-19T18:49:43.188507Z",
          "iopub.execute_input": "2022-07-19T18:49:43.188915Z",
          "iopub.status.idle": "2022-07-19T18:49:43.217151Z",
          "shell.execute_reply.started": "2022-07-19T18:49:43.188878Z",
          "shell.execute_reply": "2022-07-19T18:49:43.216247Z"
        },
        "jupyter": {
          "outputs_hidden": false
        },
        "trusted": true,
        "id": "H3XvwV9H_zFu"
      },
      "execution_count": null,
      "outputs": []
    },
    {
      "cell_type": "code",
      "source": [
        "# sort based on column\n",
        "df.sort_values(by=['Order Date'],inplace=True)"
      ],
      "metadata": {
        "_uuid": "5221afc5-62bd-43eb-b43e-f36572fecf20",
        "_cell_guid": "d156c0fc-bd88-43fb-a578-54e81ed72a1d",
        "execution": {
          "iopub.status.busy": "2022-07-19T18:50:01.458123Z",
          "iopub.execute_input": "2022-07-19T18:50:01.458761Z",
          "iopub.status.idle": "2022-07-19T18:50:01.468389Z",
          "shell.execute_reply.started": "2022-07-19T18:50:01.458705Z",
          "shell.execute_reply": "2022-07-19T18:50:01.467055Z"
        },
        "jupyter": {
          "outputs_hidden": false
        },
        "trusted": true,
        "id": "p0mXGas3_zFv"
      },
      "execution_count": null,
      "outputs": []
    },
    {
      "cell_type": "markdown",
      "source": [
        "**Let's show some visualization for the data **"
      ],
      "metadata": {
        "_uuid": "b5999a0f-3257-47d3-96c7-2239afb87354",
        "_cell_guid": "b3862d26-6ad4-468f-8edd-b65dd9ad670a",
        "trusted": true,
        "id": "2HQrV79m_zFv"
      }
    },
    {
      "cell_type": "code",
      "source": [
        "df['Ship Mode'].value_counts()"
      ],
      "metadata": {
        "_uuid": "2c9536bd-f463-4b30-9d41-340cc40bcc7b",
        "_cell_guid": "1741856c-3683-4f53-a378-0de645f40876",
        "execution": {
          "iopub.status.busy": "2022-07-19T18:50:33.42776Z",
          "iopub.execute_input": "2022-07-19T18:50:33.428152Z",
          "iopub.status.idle": "2022-07-19T18:50:33.438325Z",
          "shell.execute_reply.started": "2022-07-19T18:50:33.42812Z",
          "shell.execute_reply": "2022-07-19T18:50:33.437339Z"
        },
        "jupyter": {
          "outputs_hidden": false
        },
        "trusted": true,
        "id": "CGEPScDL_zFw"
      },
      "execution_count": null,
      "outputs": []
    },
    {
      "cell_type": "code",
      "source": [
        "df['Ship Mode'].value_counts().plot.pie()"
      ],
      "metadata": {
        "_uuid": "6322e1bd-275b-4ffd-a6b7-f9e15744d283",
        "_cell_guid": "30ad4011-6143-407d-8faf-7399dea9deac",
        "execution": {
          "iopub.status.busy": "2022-07-19T18:50:48.019219Z",
          "iopub.execute_input": "2022-07-19T18:50:48.019716Z",
          "iopub.status.idle": "2022-07-19T18:50:48.226841Z",
          "shell.execute_reply.started": "2022-07-19T18:50:48.01968Z",
          "shell.execute_reply": "2022-07-19T18:50:48.225244Z"
        },
        "jupyter": {
          "outputs_hidden": false
        },
        "trusted": true,
        "id": "FaW1uOBv_zFx"
      },
      "execution_count": null,
      "outputs": []
    },
    {
      "cell_type": "code",
      "source": [
        "df['Segment'].value_counts()"
      ],
      "metadata": {
        "_uuid": "8e5e1cb3-1bf5-4cef-90da-d314d171b80d",
        "_cell_guid": "e73d32df-e3c1-4143-ad9e-2193e522e868",
        "execution": {
          "iopub.status.busy": "2022-07-19T18:51:03.469427Z",
          "iopub.execute_input": "2022-07-19T18:51:03.469832Z",
          "iopub.status.idle": "2022-07-19T18:51:03.481121Z",
          "shell.execute_reply.started": "2022-07-19T18:51:03.469801Z",
          "shell.execute_reply": "2022-07-19T18:51:03.479639Z"
        },
        "jupyter": {
          "outputs_hidden": false
        },
        "trusted": true,
        "id": "zWr_SpPs_zFx"
      },
      "execution_count": null,
      "outputs": []
    },
    {
      "cell_type": "code",
      "source": [
        "df['Segment'].value_counts().plot.pie()"
      ],
      "metadata": {
        "_uuid": "014fed2e-3e3c-49dd-a093-6ab9fa72def4",
        "_cell_guid": "cf5d0358-ef57-4027-8c42-02003697db7a",
        "execution": {
          "iopub.status.busy": "2022-07-19T18:51:15.104218Z",
          "iopub.execute_input": "2022-07-19T18:51:15.10463Z",
          "iopub.status.idle": "2022-07-19T18:51:15.212696Z",
          "shell.execute_reply.started": "2022-07-19T18:51:15.104595Z",
          "shell.execute_reply": "2022-07-19T18:51:15.211337Z"
        },
        "jupyter": {
          "outputs_hidden": false
        },
        "trusted": true,
        "id": "Q6pUsQxO_zFy"
      },
      "execution_count": null,
      "outputs": []
    },
    {
      "cell_type": "code",
      "source": [
        "df['Country'].value_counts()   # all the sales comes from USA"
      ],
      "metadata": {
        "_uuid": "c6d33106-e322-49f1-b330-7002deeb8260",
        "_cell_guid": "d5c60ef5-13e9-4ec9-80d9-3cc420065223",
        "execution": {
          "iopub.status.busy": "2022-07-19T18:51:41.743434Z",
          "iopub.execute_input": "2022-07-19T18:51:41.743812Z",
          "iopub.status.idle": "2022-07-19T18:51:41.754788Z",
          "shell.execute_reply.started": "2022-07-19T18:51:41.743783Z",
          "shell.execute_reply": "2022-07-19T18:51:41.753404Z"
        },
        "jupyter": {
          "outputs_hidden": false
        },
        "trusted": true,
        "id": "5Rop1Fds_zFy"
      },
      "execution_count": null,
      "outputs": []
    },
    {
      "cell_type": "code",
      "source": [
        "df['City'].value_counts()"
      ],
      "metadata": {
        "_uuid": "e83e0436-0570-4c66-85e5-3aac7145bb44",
        "_cell_guid": "b61128a8-5943-4cb8-ba32-48afc41c36ee",
        "execution": {
          "iopub.status.busy": "2022-07-19T18:51:54.657387Z",
          "iopub.execute_input": "2022-07-19T18:51:54.657857Z",
          "iopub.status.idle": "2022-07-19T18:51:54.669761Z",
          "shell.execute_reply.started": "2022-07-19T18:51:54.657802Z",
          "shell.execute_reply": "2022-07-19T18:51:54.668415Z"
        },
        "jupyter": {
          "outputs_hidden": false
        },
        "trusted": true,
        "id": "oixr8TOw_zFz"
      },
      "execution_count": null,
      "outputs": []
    },
    {
      "cell_type": "code",
      "source": [
        "plt.figure(figsize=(15,10))\n",
        "df['City'].value_counts().plot.pie()"
      ],
      "metadata": {
        "_uuid": "e80325d9-cebe-4dd3-9714-b1f43ac92b78",
        "_cell_guid": "a42afba8-10da-4526-8b0e-b9f6fbc0c6a6",
        "execution": {
          "iopub.status.busy": "2022-07-19T18:52:04.646389Z",
          "iopub.execute_input": "2022-07-19T18:52:04.64748Z",
          "iopub.status.idle": "2022-07-19T18:52:09.446549Z",
          "shell.execute_reply.started": "2022-07-19T18:52:04.64744Z",
          "shell.execute_reply": "2022-07-19T18:52:09.445597Z"
        },
        "jupyter": {
          "outputs_hidden": false
        },
        "trusted": true,
        "id": "yUYvNLoa_zFz"
      },
      "execution_count": null,
      "outputs": []
    },
    {
      "cell_type": "code",
      "source": [
        "# Visualize category columns\n",
        "plt.figure(figsize=(16,6))\n",
        "sns.countplot('State' , data=df)\n",
        "plt.xticks(rotation='vertical')"
      ],
      "metadata": {
        "_uuid": "a36cd5ab-e1f9-4b21-a8f8-4f991aeeabe8",
        "_cell_guid": "ce9afda9-c84f-4991-8fd5-06f414f1a3d3",
        "execution": {
          "iopub.status.busy": "2022-07-19T18:52:56.281544Z",
          "iopub.execute_input": "2022-07-19T18:52:56.28194Z",
          "iopub.status.idle": "2022-07-19T18:52:56.907149Z",
          "shell.execute_reply.started": "2022-07-19T18:52:56.281908Z",
          "shell.execute_reply": "2022-07-19T18:52:56.905826Z"
        },
        "jupyter": {
          "outputs_hidden": false
        },
        "trusted": true,
        "id": "9ZNSdfel_zFz"
      },
      "execution_count": null,
      "outputs": []
    },
    {
      "cell_type": "code",
      "source": [
        "# top 10 stats\n",
        "top_stats = df.groupby(['State']).sum().sort_values('Sales', ascending=False).head(10)\n",
        "top_stats = top_stats[['Sales']].round(2)\n",
        "top_stats.reset_index(inplace=True)\n",
        "top_stats"
      ],
      "metadata": {
        "_uuid": "e6a3870f-ef1f-4b43-86ee-174f601c5016",
        "_cell_guid": "7d5625ec-2a8d-48a8-b294-ca364f961d27",
        "execution": {
          "iopub.status.busy": "2022-07-19T18:53:24.017512Z",
          "iopub.execute_input": "2022-07-19T18:53:24.017902Z",
          "iopub.status.idle": "2022-07-19T18:53:24.043138Z",
          "shell.execute_reply.started": "2022-07-19T18:53:24.017872Z",
          "shell.execute_reply": "2022-07-19T18:53:24.042035Z"
        },
        "jupyter": {
          "outputs_hidden": false
        },
        "trusted": true,
        "id": "smsZi8EA_zF0"
      },
      "execution_count": null,
      "outputs": []
    },
    {
      "cell_type": "code",
      "source": [
        "# visualize top 10 stats\n",
        "plt.figure(figsize=(16,6))\n",
        "plt.bar(top_stats['State'],top_stats['Sales'] ,color=\"#99ff99\" , edgecolor='green')\n",
        "plt.xticks(rotation='vertical')\n",
        "plt.title('States With High Revenu ',fontsize=15)\n",
        "plt.xlabel('State',fontsize=15)\n",
        "plt.ylabel('Revenu',fontsize=15)\n",
        "\n",
        "for k , v in top_stats['Sales'].items():\n",
        "    if v > 200000 :\n",
        "        plt.text(k,v-100000,\"$\"+str(v),rotation=90,horizontalalignment='center')\n",
        "    else:\n",
        "        plt.text(k,v-50000,\"$\"+str(v),rotation=90,horizontalalignment='center')"
      ],
      "metadata": {
        "_uuid": "24c7aad9-8966-4d1a-8016-1994bce215cd",
        "_cell_guid": "ddd54fe4-b51c-4ccb-8efd-869eee3e72fa",
        "execution": {
          "iopub.status.busy": "2022-07-19T18:53:47.700768Z",
          "iopub.execute_input": "2022-07-19T18:53:47.701195Z",
          "iopub.status.idle": "2022-07-19T18:53:47.973357Z",
          "shell.execute_reply.started": "2022-07-19T18:53:47.701159Z",
          "shell.execute_reply": "2022-07-19T18:53:47.972113Z"
        },
        "jupyter": {
          "outputs_hidden": false
        },
        "trusted": true,
        "id": "NSKcBUVY_zF0"
      },
      "execution_count": null,
      "outputs": []
    },
    {
      "cell_type": "code",
      "source": [
        "# draw top 10 cities\n",
        "top_city = df.groupby(['City']).sum().sort_values('Sales', ascending=False).head(10)\n",
        "top_city = top_city[['Sales']].round(2)\n",
        "top_city.reset_index(inplace=True)\n",
        "top_city"
      ],
      "metadata": {
        "_uuid": "e14cbda5-11bd-4a65-81b1-432301223cba",
        "_cell_guid": "db3de3bc-81f3-4719-a321-d62d6e3470bc",
        "execution": {
          "iopub.status.busy": "2022-07-19T18:54:36.665573Z",
          "iopub.execute_input": "2022-07-19T18:54:36.66599Z",
          "iopub.status.idle": "2022-07-19T18:54:36.689468Z",
          "shell.execute_reply.started": "2022-07-19T18:54:36.665941Z",
          "shell.execute_reply": "2022-07-19T18:54:36.688361Z"
        },
        "jupyter": {
          "outputs_hidden": false
        },
        "trusted": true,
        "id": "BkH9K4fm_zF1"
      },
      "execution_count": null,
      "outputs": []
    },
    {
      "cell_type": "code",
      "source": [
        "# visualize top 10 cities\n",
        "plt.figure(figsize=(16,6))\n",
        "plt.bar(top_city['City'],top_city['Sales'] ,color=\"#95dee3\" , edgecolor='blue')\n",
        "plt.xticks(rotation='vertical')\n",
        "plt.title('States With High Revenu ',fontsize=15)\n",
        "plt.xlabel('State',fontsize=15)\n",
        "plt.ylabel('Revenu',fontsize=15)\n",
        "\n",
        "for k , v in top_city['Sales'].items():\n",
        "    if v > 100000 :\n",
        "        plt.text(k,v-100000,\"$\"+str(v),rotation=90,horizontalalignment='center')\n",
        "    else:\n",
        "        plt.text(k,v-10000,\"$\"+str(v),rotation=90,horizontalalignment='center')"
      ],
      "metadata": {
        "_uuid": "44ce5308-165d-457b-b714-dfbecbb8d590",
        "_cell_guid": "f004b17d-ef31-47bc-ad3b-0c6bc6df98c2",
        "execution": {
          "iopub.status.busy": "2022-07-19T18:55:01.618845Z",
          "iopub.execute_input": "2022-07-19T18:55:01.619265Z",
          "iopub.status.idle": "2022-07-19T18:55:01.893056Z",
          "shell.execute_reply.started": "2022-07-19T18:55:01.619233Z",
          "shell.execute_reply": "2022-07-19T18:55:01.891909Z"
        },
        "jupyter": {
          "outputs_hidden": false
        },
        "trusted": true,
        "id": "6hWdrtmP_zF2"
      },
      "execution_count": null,
      "outputs": []
    },
    {
      "cell_type": "code",
      "source": [
        "# top 10 customers\n",
        "top_customers = df.groupby(['Customer Name']).sum().sort_values('Sales', ascending=False).head(10)\n",
        "top_customers = top_customers[['Sales']].round(2)\n",
        "top_customers.reset_index(inplace=True)\n",
        "top_customers"
      ],
      "metadata": {
        "_uuid": "958e15d4-dd3e-4513-b71f-f2afe1c1f2f0",
        "_cell_guid": "b7eced80-6b02-4efd-8963-8c542498bc08",
        "execution": {
          "iopub.status.busy": "2022-07-19T18:55:21.506176Z",
          "iopub.execute_input": "2022-07-19T18:55:21.50654Z",
          "iopub.status.idle": "2022-07-19T18:55:21.529215Z",
          "shell.execute_reply.started": "2022-07-19T18:55:21.50651Z",
          "shell.execute_reply": "2022-07-19T18:55:21.528022Z"
        },
        "jupyter": {
          "outputs_hidden": false
        },
        "trusted": true,
        "id": "iqWKEIqe_zF2"
      },
      "execution_count": null,
      "outputs": []
    },
    {
      "cell_type": "code",
      "source": [
        "# visualize top 10 customers\n",
        "plt.figure(figsize=(16,6))\n",
        "plt.bar(top_customers['Customer Name'],top_customers['Sales'] ,color=\"#95dee3\" , edgecolor='blue')\n",
        "plt.xticks(rotation='vertical')\n",
        "plt.title('States With High Revenu ',fontsize=15)\n",
        "plt.xlabel('State',fontsize=15)\n",
        "plt.ylabel('Revenu',fontsize=15)\n",
        "\n",
        "for k , v in top_customers['Sales'].items():\n",
        "    if v > 100000 :\n",
        "        plt.text(k,v-100000,\"$\"+str(v),rotation=90,horizontalalignment='center')\n",
        "    else:\n",
        "        plt.text(k,v-10000,\"$\"+str(v),rotation=90,horizontalalignment='center')"
      ],
      "metadata": {
        "_uuid": "f8d7470f-a6d4-41a2-a8cd-7634db5bba72",
        "_cell_guid": "d50e12d3-a770-4e22-93e1-d9abf321cf9b",
        "execution": {
          "iopub.status.busy": "2022-07-19T18:55:50.108949Z",
          "iopub.execute_input": "2022-07-19T18:55:50.109418Z",
          "iopub.status.idle": "2022-07-19T18:55:50.384736Z",
          "shell.execute_reply.started": "2022-07-19T18:55:50.109382Z",
          "shell.execute_reply": "2022-07-19T18:55:50.383635Z"
        },
        "jupyter": {
          "outputs_hidden": false
        },
        "trusted": true,
        "id": "ApZhavtb_zF2"
      },
      "execution_count": null,
      "outputs": []
    },
    {
      "cell_type": "code",
      "source": [
        "# show categories\n",
        "df['Category'].value_counts()"
      ],
      "metadata": {
        "_uuid": "d6160d80-b907-4cdb-84da-2ff23f01e7f1",
        "_cell_guid": "86c79748-8387-4128-876f-e7e1938bdbc0",
        "execution": {
          "iopub.status.busy": "2022-07-19T18:56:21.159638Z",
          "iopub.execute_input": "2022-07-19T18:56:21.160056Z",
          "iopub.status.idle": "2022-07-19T18:56:21.172026Z",
          "shell.execute_reply.started": "2022-07-19T18:56:21.16002Z",
          "shell.execute_reply": "2022-07-19T18:56:21.171046Z"
        },
        "jupyter": {
          "outputs_hidden": false
        },
        "trusted": true,
        "id": "2RnvrMah_zF2"
      },
      "execution_count": null,
      "outputs": []
    },
    {
      "cell_type": "code",
      "source": [
        "# how much sales in each category\n",
        "category_sales = df.groupby(['Category']).sum().sort_values('Sales',ascending=False)\n",
        "category_sales.reset_index(inplace=True)\n",
        "category_sales"
      ],
      "metadata": {
        "_uuid": "6c87b89e-b13d-4c7a-adcb-6cbc69caf5c8",
        "_cell_guid": "4db0ede0-f95d-4c27-826b-d2bdb45e8e73",
        "execution": {
          "iopub.status.busy": "2022-07-19T18:56:45.407125Z",
          "iopub.execute_input": "2022-07-19T18:56:45.407505Z",
          "iopub.status.idle": "2022-07-19T18:56:45.429947Z",
          "shell.execute_reply.started": "2022-07-19T18:56:45.407476Z",
          "shell.execute_reply": "2022-07-19T18:56:45.429Z"
        },
        "jupyter": {
          "outputs_hidden": false
        },
        "trusted": true,
        "id": "iWlAMEs7_zF3"
      },
      "execution_count": null,
      "outputs": []
    },
    {
      "cell_type": "code",
      "source": [
        "# Visualize Sales in each category\n",
        "plt.figure(figsize=(15,10))\n",
        "def make_autopct(values):\n",
        "    def my_autopct(pct):\n",
        "        total = sum(values)\n",
        "        val = int(round(pct*total/100.0))\n",
        "        return '{p:.2f}%  (${v:d})'.format(p=pct,v=val)\n",
        "    return my_autopct\n",
        "\n",
        "\n",
        "plt.pie(category_sales['Sales'],labels=category_sales['Category'],autopct=make_autopct(category_sales['Sales']))"
      ],
      "metadata": {
        "_uuid": "391fbf0c-f69e-4699-9cd4-9aa59ce043da",
        "_cell_guid": "5386aaf2-33d3-49a0-b25d-2ba5a818b2e1",
        "execution": {
          "iopub.status.busy": "2022-07-19T18:57:17.706762Z",
          "iopub.execute_input": "2022-07-19T18:57:17.707167Z",
          "iopub.status.idle": "2022-07-19T18:57:17.864795Z",
          "shell.execute_reply.started": "2022-07-19T18:57:17.707137Z",
          "shell.execute_reply": "2022-07-19T18:57:17.863147Z"
        },
        "jupyter": {
          "outputs_hidden": false
        },
        "trusted": true,
        "id": "Ir5PZaEK_zF3"
      },
      "execution_count": null,
      "outputs": []
    },
    {
      "cell_type": "code",
      "source": [
        "# top products\n",
        "top_products = df.groupby(['Product Name']).sum().sort_values('Sales',ascending=False).head(5)\n",
        "top_products.reset_index(inplace=True)\n",
        "top_products"
      ],
      "metadata": {
        "_uuid": "10b6cf06-b5cd-48ec-9dfe-b7240ace61fd",
        "_cell_guid": "e46b512c-0431-45e6-8827-02bf10d70eef",
        "execution": {
          "iopub.status.busy": "2022-07-19T18:57:46.729919Z",
          "iopub.execute_input": "2022-07-19T18:57:46.730695Z",
          "iopub.status.idle": "2022-07-19T18:57:46.755179Z",
          "shell.execute_reply.started": "2022-07-19T18:57:46.730654Z",
          "shell.execute_reply": "2022-07-19T18:57:46.754045Z"
        },
        "jupyter": {
          "outputs_hidden": false
        },
        "trusted": true,
        "id": "NN4LLjD3_zF3"
      },
      "execution_count": null,
      "outputs": []
    },
    {
      "cell_type": "code",
      "source": [
        "# sales in each product\n",
        "plt.figure(figsize=(15,10))\n",
        "plt.pie(top_products['Sales'],labels=top_products['Product Name'],autopct=make_autopct(top_products['Sales']))"
      ],
      "metadata": {
        "_uuid": "24597580-9bfc-4dfd-8ba3-4c3944f76ddc",
        "_cell_guid": "419449da-3abf-4f45-ada2-d846514bc137",
        "execution": {
          "iopub.status.busy": "2022-07-19T18:58:10.110067Z",
          "iopub.execute_input": "2022-07-19T18:58:10.110514Z",
          "iopub.status.idle": "2022-07-19T18:58:10.347984Z",
          "shell.execute_reply.started": "2022-07-19T18:58:10.110477Z",
          "shell.execute_reply": "2022-07-19T18:58:10.346834Z"
        },
        "jupyter": {
          "outputs_hidden": false
        },
        "trusted": true,
        "id": "-Gp2zRKC_zF4"
      },
      "execution_count": null,
      "outputs": []
    },
    {
      "cell_type": "code",
      "source": [
        "# create new columns from the order date , split the date into day , month ans year\n",
        "df['day'] = df['Order Date'].dt.day\n",
        "df['month'] = df['Order Date'].dt.month\n",
        "df['year'] = df['Order Date'].dt.year"
      ],
      "metadata": {
        "_uuid": "4413f169-b630-405f-b6b9-1a75768f6556",
        "_cell_guid": "b3391a26-69d0-4a93-8354-ce6595c3d676",
        "execution": {
          "iopub.status.busy": "2022-07-19T18:59:13.253174Z",
          "iopub.execute_input": "2022-07-19T18:59:13.254343Z",
          "iopub.status.idle": "2022-07-19T18:59:13.265725Z",
          "shell.execute_reply.started": "2022-07-19T18:59:13.254289Z",
          "shell.execute_reply": "2022-07-19T18:59:13.264767Z"
        },
        "jupyter": {
          "outputs_hidden": false
        },
        "trusted": true,
        "id": "9rM2Cemi_zF4"
      },
      "execution_count": null,
      "outputs": []
    },
    {
      "cell_type": "code",
      "source": [
        "# now we have the new 3 columns\n",
        "df.sample(5)"
      ],
      "metadata": {
        "_uuid": "b5f00711-2fe9-469b-93c8-67d04f26a0ac",
        "_cell_guid": "2db07a61-a67b-477f-91b4-83bc1adf5d5a",
        "execution": {
          "iopub.status.busy": "2022-07-19T18:59:36.499764Z",
          "iopub.execute_input": "2022-07-19T18:59:36.50017Z",
          "iopub.status.idle": "2022-07-19T18:59:36.527411Z",
          "shell.execute_reply.started": "2022-07-19T18:59:36.500137Z",
          "shell.execute_reply": "2022-07-19T18:59:36.52656Z"
        },
        "jupyter": {
          "outputs_hidden": false
        },
        "trusted": true,
        "id": "peBNDVRN_zF5"
      },
      "execution_count": null,
      "outputs": []
    },
    {
      "cell_type": "code",
      "source": [
        "# show the orders over years\n",
        "df['year'].value_counts().plot.pie()"
      ],
      "metadata": {
        "_uuid": "07c919ac-9bbf-4cb9-a5e5-03dcc3d8fcf9",
        "_cell_guid": "e06bd539-34b3-4737-b04a-481b113c7284",
        "execution": {
          "iopub.status.busy": "2022-07-19T19:00:09.138579Z",
          "iopub.execute_input": "2022-07-19T19:00:09.139015Z",
          "iopub.status.idle": "2022-07-19T19:00:09.266292Z",
          "shell.execute_reply.started": "2022-07-19T19:00:09.138948Z",
          "shell.execute_reply": "2022-07-19T19:00:09.264671Z"
        },
        "jupyter": {
          "outputs_hidden": false
        },
        "trusted": true,
        "id": "DY26uUZF_zF5"
      },
      "execution_count": null,
      "outputs": []
    },
    {
      "cell_type": "code",
      "source": [
        "# show the sales in each year\n",
        "year_sales = df.groupby(['year']).sum().sort_values('Sales',ascending=False)\n",
        "year_sales.reset_index(inplace=True)\n",
        "year_sales"
      ],
      "metadata": {
        "_uuid": "ed2563a6-af16-4db0-bb66-d5eeeaabce27",
        "_cell_guid": "2f477d06-d75c-4f37-b7ee-29d44a4daeed",
        "execution": {
          "iopub.status.busy": "2022-07-19T19:00:32.639239Z",
          "iopub.execute_input": "2022-07-19T19:00:32.639623Z",
          "iopub.status.idle": "2022-07-19T19:00:32.661831Z",
          "shell.execute_reply.started": "2022-07-19T19:00:32.639592Z",
          "shell.execute_reply": "2022-07-19T19:00:32.660743Z"
        },
        "jupyter": {
          "outputs_hidden": false
        },
        "trusted": true,
        "id": "agv4wJy6_zF5"
      },
      "execution_count": null,
      "outputs": []
    },
    {
      "cell_type": "code",
      "source": [
        "# visualize sales in each year\n",
        "plt.bar(year_sales['year'],year_sales['Sales'] ,color=\"#95dee3\" , edgecolor='blue')"
      ],
      "metadata": {
        "_uuid": "6d2d7c91-eeb6-4e99-816b-7ec53940ba16",
        "_cell_guid": "54d09e76-471a-4379-9108-024fc9b59758",
        "execution": {
          "iopub.status.busy": "2022-07-19T19:00:54.390453Z",
          "iopub.execute_input": "2022-07-19T19:00:54.390888Z",
          "iopub.status.idle": "2022-07-19T19:00:54.600522Z",
          "shell.execute_reply.started": "2022-07-19T19:00:54.390851Z",
          "shell.execute_reply": "2022-07-19T19:00:54.599182Z"
        },
        "jupyter": {
          "outputs_hidden": false
        },
        "trusted": true,
        "id": "HjRvgsks_zF6"
      },
      "execution_count": null,
      "outputs": []
    },
    {
      "cell_type": "code",
      "source": [
        "# sales 2016\n",
        "x = df['year'] == 2015\n",
        "df2 = df[x]\n",
        "sales = df2.groupby(['month']).sum().sort_values(['Sales'], ascending=False)\n",
        "sales.reset_index(inplace=True)\n",
        "sales"
      ],
      "metadata": {
        "_uuid": "6ae3c8d2-0778-42fc-83b3-1b221e468405",
        "_cell_guid": "775f11ad-b43d-4fd5-bb8e-530321a44662",
        "execution": {
          "iopub.status.busy": "2022-07-19T19:01:39.252141Z",
          "iopub.execute_input": "2022-07-19T19:01:39.25252Z",
          "iopub.status.idle": "2022-07-19T19:01:39.276129Z",
          "shell.execute_reply.started": "2022-07-19T19:01:39.25249Z",
          "shell.execute_reply": "2022-07-19T19:01:39.274979Z"
        },
        "jupyter": {
          "outputs_hidden": false
        },
        "trusted": true,
        "id": "2Ang9u2m_zF6"
      },
      "execution_count": null,
      "outputs": []
    },
    {
      "cell_type": "code",
      "source": [
        "# show sales in each month year=2016\n",
        "plt.bar(sales['month'] , sales['Sales'])"
      ],
      "metadata": {
        "_uuid": "e33ed1c0-52cc-442d-af70-931ffbb665ef",
        "_cell_guid": "a1c41b72-5999-47d6-899a-9ac5d8f30261",
        "execution": {
          "iopub.status.busy": "2022-07-19T19:02:51.212679Z",
          "iopub.execute_input": "2022-07-19T19:02:51.213103Z",
          "iopub.status.idle": "2022-07-19T19:02:51.423236Z",
          "shell.execute_reply.started": "2022-07-19T19:02:51.213069Z",
          "shell.execute_reply": "2022-07-19T19:02:51.422Z"
        },
        "jupyter": {
          "outputs_hidden": false
        },
        "trusted": true,
        "id": "Ic_hljLO_zF6"
      },
      "execution_count": null,
      "outputs": []
    },
    {
      "cell_type": "code",
      "source": [
        "# function to get sales for each month in the 4 years\n",
        "\n",
        "all_sales = []\n",
        "\n",
        "years = [2015,2016,2017,2018]\n",
        "for year in years :\n",
        "    x = df['year'] == year\n",
        "    df2 = df[x]\n",
        "    sales = df2.groupby(['month']).sum() #.sort_values(['Sales'], ascending=False)\n",
        "    sales.reset_index(inplace=True)\n",
        "    all_sales.append([year,sales['Sales']])\n",
        "\n",
        "x = df['year'] == 2015\n",
        "df2 = df[x]\n",
        "sales = df2.groupby(['month']).sum().sort_values(['Sales'], ascending=False)\n",
        "sales.reset_index(inplace=True)\n",
        "all_sales"
      ],
      "metadata": {
        "_uuid": "7c51f29c-d8d7-493a-848d-11f01a4f2bac",
        "_cell_guid": "7088ea84-f455-4fbd-9fa8-3e4fc01bca06",
        "execution": {
          "iopub.status.busy": "2022-07-19T19:04:21.001872Z",
          "iopub.execute_input": "2022-07-19T19:04:21.00233Z",
          "iopub.status.idle": "2022-07-19T19:04:21.045525Z",
          "shell.execute_reply.started": "2022-07-19T19:04:21.002294Z",
          "shell.execute_reply": "2022-07-19T19:04:21.044712Z"
        },
        "jupyter": {
          "outputs_hidden": false
        },
        "trusted": true,
        "id": "FEq6i8Kn_zF7"
      },
      "execution_count": null,
      "outputs": []
    },
    {
      "cell_type": "code",
      "source": [
        "# show sales in each year with months detail\n",
        "my_sales = df.groupby([('year'),('month')]).sum()\n",
        "my_sales.reset_index(inplace=True)\n",
        "my_sales"
      ],
      "metadata": {
        "_uuid": "77e4f616-9435-4c6d-a342-e13995e96ad7",
        "_cell_guid": "fe29d8cf-df7c-4f1b-bdd5-32493922cee2",
        "execution": {
          "iopub.status.busy": "2022-07-19T19:05:22.528231Z",
          "iopub.execute_input": "2022-07-19T19:05:22.528611Z",
          "iopub.status.idle": "2022-07-19T19:05:22.570598Z",
          "shell.execute_reply.started": "2022-07-19T19:05:22.528581Z",
          "shell.execute_reply": "2022-07-19T19:05:22.56934Z"
        },
        "jupyter": {
          "outputs_hidden": false
        },
        "trusted": true,
        "id": "YWNPfw0n_zF7"
      },
      "execution_count": null,
      "outputs": []
    },
    {
      "cell_type": "code",
      "source": [
        "# draw the sales as scatter to get the highest sales in each year\n",
        "plt.figure(figsize=(15,10))\n",
        "plt.scatter(my_sales['year'],my_sales['Sales'])"
      ],
      "metadata": {
        "_uuid": "365e77ae-ec5b-4699-9f07-e423e363b341",
        "_cell_guid": "e737986f-fd76-423a-a7b6-98872b067737",
        "execution": {
          "iopub.status.busy": "2022-07-19T19:06:34.113726Z",
          "iopub.execute_input": "2022-07-19T19:06:34.114139Z",
          "iopub.status.idle": "2022-07-19T19:06:34.364762Z",
          "shell.execute_reply.started": "2022-07-19T19:06:34.114104Z",
          "shell.execute_reply": "2022-07-19T19:06:34.363478Z"
        },
        "jupyter": {
          "outputs_hidden": false
        },
        "trusted": true,
        "id": "X6w3ETY2_zF7"
      },
      "execution_count": null,
      "outputs": []
    },
    {
      "cell_type": "code",
      "source": [
        "# another way to show it but the scatter is better\n",
        "plt.bar(my_sales['year'],my_sales['Sales'])"
      ],
      "metadata": {
        "_uuid": "aa43a7a8-a9e0-4043-b359-6d3389d8b3e1",
        "_cell_guid": "3d35e2ea-1810-4cd9-84b4-5fae1d776866",
        "execution": {
          "iopub.status.busy": "2022-07-19T19:07:04.303294Z",
          "iopub.execute_input": "2022-07-19T19:07:04.303725Z",
          "iopub.status.idle": "2022-07-19T19:07:04.536174Z",
          "shell.execute_reply.started": "2022-07-19T19:07:04.303692Z",
          "shell.execute_reply": "2022-07-19T19:07:04.535013Z"
        },
        "jupyter": {
          "outputs_hidden": false
        },
        "trusted": true,
        "id": "xBFz2qPo_zF8"
      },
      "execution_count": null,
      "outputs": []
    },
    {
      "cell_type": "markdown",
      "source": [
        "now i will get the sales for each year alone , because i want to draw all the years in one detaild chart , i know i can do this in a simple way using functions , but i wanted to keep it very simple so that people understand it easily"
      ],
      "metadata": {
        "_uuid": "5d4ec73d-cc0f-4c62-ab46-5086de0ce1fe",
        "_cell_guid": "d8f3f8d3-3357-469e-958c-5753e4b4fe68",
        "trusted": true,
        "id": "r6kzbtal_zF8"
      }
    },
    {
      "cell_type": "code",
      "source": [
        "# get 2015 sales\n",
        "x = df['year'] == 2015\n",
        "df2 = df[x]\n",
        "sales = df2.groupby(['month']).sum()\n",
        "sales.reset_index(inplace=True)\n",
        "sales_2015 = [round(x,2) for x in list(sales['Sales'])]\n",
        "sales_2015"
      ],
      "metadata": {
        "_uuid": "3fe07a32-6e2c-4155-aed2-654e8e9240e7",
        "_cell_guid": "79ada6dd-2ca1-48c0-8504-3e2ecf68bfe8",
        "execution": {
          "iopub.status.busy": "2022-07-19T19:07:44.79949Z",
          "iopub.execute_input": "2022-07-19T19:07:44.800054Z",
          "iopub.status.idle": "2022-07-19T19:07:44.816694Z",
          "shell.execute_reply.started": "2022-07-19T19:07:44.800011Z",
          "shell.execute_reply": "2022-07-19T19:07:44.815017Z"
        },
        "jupyter": {
          "outputs_hidden": false
        },
        "trusted": true,
        "id": "EWSSSnLR_zF8"
      },
      "execution_count": null,
      "outputs": []
    },
    {
      "cell_type": "code",
      "source": [
        "# get 2016 sales\n",
        "x = df['year'] == 2016\n",
        "df2 = df[x]\n",
        "sales = df2.groupby(['month']).sum()\n",
        "sales.reset_index(inplace=True)\n",
        "sales_2016 = [round(x,2) for x in list(sales['Sales'])]\n",
        "sales_2016"
      ],
      "metadata": {
        "_uuid": "18baa9f1-9ab6-4303-a4a9-fcc049be3c40",
        "_cell_guid": "ff0f0237-daed-469e-9af8-0b1800c4bd81",
        "execution": {
          "iopub.status.busy": "2022-07-19T19:08:09.096794Z",
          "iopub.execute_input": "2022-07-19T19:08:09.097215Z",
          "iopub.status.idle": "2022-07-19T19:08:09.114244Z",
          "shell.execute_reply.started": "2022-07-19T19:08:09.097183Z",
          "shell.execute_reply": "2022-07-19T19:08:09.113189Z"
        },
        "jupyter": {
          "outputs_hidden": false
        },
        "trusted": true,
        "id": "aBoY-yEL_zF9"
      },
      "execution_count": null,
      "outputs": []
    },
    {
      "cell_type": "code",
      "source": [
        "# get 2017 sales\n",
        "x = df['year'] == 2017\n",
        "df2 = df[x]\n",
        "sales = df2.groupby(['month']).sum()\n",
        "sales.reset_index(inplace=True)\n",
        "sales_2017 = [round(x,2) for x in list(sales['Sales'])]\n",
        "sales_2017"
      ],
      "metadata": {
        "_uuid": "7467d479-3ce8-4657-92fd-ee4c5dec4ed6",
        "_cell_guid": "512b5b5d-5dee-41dd-b00f-974343fafe45",
        "execution": {
          "iopub.status.busy": "2022-07-19T19:08:46.747072Z",
          "iopub.execute_input": "2022-07-19T19:08:46.748162Z",
          "iopub.status.idle": "2022-07-19T19:08:46.764758Z",
          "shell.execute_reply.started": "2022-07-19T19:08:46.74812Z",
          "shell.execute_reply": "2022-07-19T19:08:46.763525Z"
        },
        "jupyter": {
          "outputs_hidden": false
        },
        "trusted": true,
        "id": "JT4o5H7L_zF-"
      },
      "execution_count": null,
      "outputs": []
    },
    {
      "cell_type": "code",
      "source": [
        "# get 2018 sales\n",
        "x = df['year'] == 2018\n",
        "df2 = df[x]\n",
        "sales = df2.groupby(['month']).sum()\n",
        "sales.reset_index(inplace=True)\n",
        "sales_2018 = [round(x,2) for x in list(sales['Sales'])]\n",
        "sales_2018"
      ],
      "metadata": {
        "_uuid": "47f09ff6-5d89-4379-a18a-ac2c44cffde7",
        "_cell_guid": "495d7ebc-2e68-4578-958d-3b02c5a98009",
        "execution": {
          "iopub.status.busy": "2022-07-19T19:10:18.863862Z",
          "iopub.execute_input": "2022-07-19T19:10:18.864362Z",
          "iopub.status.idle": "2022-07-19T19:10:18.882748Z",
          "shell.execute_reply.started": "2022-07-19T19:10:18.864323Z",
          "shell.execute_reply": "2022-07-19T19:10:18.881521Z"
        },
        "jupyter": {
          "outputs_hidden": false
        },
        "trusted": true,
        "id": "vrOavnL9_zF-"
      },
      "execution_count": null,
      "outputs": []
    },
    {
      "cell_type": "code",
      "source": [
        "# draw all the months in all the years in a good way so that we can see the differences between them\n",
        "import numpy as np\n",
        "\n",
        "\n",
        "plt.figure(figsize=(15,8))\n",
        "\n",
        "#day one, the age and speed of 13 cars:\n",
        "x = np.array([1,2,3,4,5,6,7,8,9,10,11,12])\n",
        "y = np.array(sales_2015)\n",
        "plt.scatter(x, y , color = 'red')\n",
        "\n",
        "#day two, the age and speed of 15 cars:\n",
        "y = np.array(sales_2016)\n",
        "plt.scatter(x, y , color = 'blue')\n",
        "\n",
        "\n",
        "\n",
        "y = np.array(sales_2017)\n",
        "plt.scatter(x, y , color = 'black')\n",
        "\n",
        "\n",
        "y = np.array(sales_2018)\n",
        "plt.scatter(x, y , color = 'green')\n",
        "\n",
        "plt.show()"
      ],
      "metadata": {
        "_uuid": "3cbf541a-443f-4cff-840e-79fc6951b124",
        "_cell_guid": "2e2146b7-226e-484f-a99a-8fafe261f8b5",
        "execution": {
          "iopub.status.busy": "2022-07-19T19:10:59.83186Z",
          "iopub.execute_input": "2022-07-19T19:10:59.832271Z",
          "iopub.status.idle": "2022-07-19T19:11:00.212118Z",
          "shell.execute_reply.started": "2022-07-19T19:10:59.832238Z",
          "shell.execute_reply": "2022-07-19T19:11:00.210852Z"
        },
        "jupyter": {
          "outputs_hidden": false
        },
        "trusted": true,
        "id": "y8hxrFqV_zF_"
      },
      "execution_count": null,
      "outputs": []
    },
    {
      "cell_type": "code",
      "source": [
        "# the same chart but in another way\n",
        "plt.figure(figsize=(15,8))\n",
        "\n",
        "#day one, the age and speed of 13 cars:\n",
        "x = np.array([1,2,3,4,5,6,7,8,9,10,11,12])\n",
        "y = np.array(sales_2015)\n",
        "plt.plot(x, y , color = 'red' ,label='2015')\n",
        "\n",
        "\n",
        "#day two, the age and speed of 15 cars:\n",
        "y = np.array(sales_2016)\n",
        "plt.plot(x, y , color = 'blue' ,label='2016')\n",
        "\n",
        "\n",
        "\n",
        "y = np.array(sales_2017)\n",
        "plt.plot(x, y , color = 'black',label='2017')\n",
        "\n",
        "\n",
        "y = np.array(sales_2018)\n",
        "plt.plot(x, y , color = 'green' , label='2018')\n",
        "\n",
        "plt.legend()\n",
        "plt.show()"
      ],
      "metadata": {
        "_uuid": "37832cf3-8c3a-401a-b020-de8bf60d82bd",
        "_cell_guid": "343f997b-c847-4d52-bbc7-b848c0bd6ac1",
        "execution": {
          "iopub.status.busy": "2022-07-19T19:11:32.000335Z",
          "iopub.execute_input": "2022-07-19T19:11:32.00071Z",
          "iopub.status.idle": "2022-07-19T19:11:32.25027Z",
          "shell.execute_reply.started": "2022-07-19T19:11:32.00068Z",
          "shell.execute_reply": "2022-07-19T19:11:32.249017Z"
        },
        "jupyter": {
          "outputs_hidden": false
        },
        "trusted": true,
        "id": "9_P8XWhG_zGA"
      },
      "execution_count": null,
      "outputs": []
    }
  ]
}